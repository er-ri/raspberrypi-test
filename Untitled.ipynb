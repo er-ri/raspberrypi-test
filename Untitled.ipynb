{
 "cells": [
  {
   "cell_type": "code",
   "execution_count": null,
   "id": "f67a5576",
   "metadata": {},
   "outputs": [],
   "source": [
    "import json"
   ]
  },
  {
   "cell_type": "code",
   "execution_count": null,
   "id": "852b8a4c",
   "metadata": {},
   "outputs": [],
   "source": [
    "# employee_string = '{\"first_name\": \"Michael\", \"last_name\": \"Rodgers\", \"department\": \"Marketing\"}'\n",
    "\n",
    "parameters = {\n",
    "    \"wheel\": 0.76,\n",
    "    \"speed\": 12\n",
    "}\n",
    "\n",
    "type(parameters)"
   ]
  },
  {
   "cell_type": "code",
   "execution_count": null,
   "id": "26a5d7ec",
   "metadata": {},
   "outputs": [],
   "source": [
    "a = json.dumps(parameters)\n",
    "type(a)"
   ]
  },
  {
   "cell_type": "code",
   "execution_count": null,
   "id": "c73681f8",
   "metadata": {},
   "outputs": [],
   "source": [
    "b = json.loads(a)\n",
    "b[\"wheel\"]"
   ]
  },
  {
   "cell_type": "code",
   "execution_count": null,
   "id": "f50f6173",
   "metadata": {},
   "outputs": [],
   "source": [
    "import requests\n",
    "requests.post(\"http://192.168.100.22\", data=[data], json=[json], arguments)"
   ]
  },
  {
   "cell_type": "code",
   "execution_count": null,
   "id": "7f854e61",
   "metadata": {},
   "outputs": [],
   "source": [
    "import keyboard\n",
    "import requests\n",
    "import time\n",
    "while True:\n",
    "    if keyboard.is_pressed(\"up\"):\n",
    "        print(\"You pressed 'up'.\")\n",
    "        parameters = {\n",
    "            \"wheel\": 0.76,\n",
    "            \"speed\": 40\n",
    "        }\n",
    "        requests.post(\"http://192.168.100.22\", json=parameters)\n",
    "        time.sleep(0.1)\n",
    "    elif keyboard.is_pressed(\"down\"):\n",
    "        print(\"You pressed 'down'.\")\n",
    "        parameters = {\n",
    "            \"wheel\": 0.76,\n",
    "            \"speed\": 0\n",
    "        }\n",
    "        requests.post(\"http://192.168.100.22\", json=parameters)\n",
    "        time.sleep(0.1)\n",
    "    elif keyboard.is_pressed(\"esc\"):\n",
    "        print(\"You pressed 'esc'.\")\n",
    "        break"
   ]
  }
 ],
 "metadata": {
  "kernelspec": {
   "display_name": "Python 3 (ipykernel)",
   "language": "python",
   "name": "python3"
  },
  "language_info": {
   "codemirror_mode": {
    "name": "ipython",
    "version": 3
   },
   "file_extension": ".py",
   "mimetype": "text/x-python",
   "name": "python",
   "nbconvert_exporter": "python",
   "pygments_lexer": "ipython3",
   "version": "3.10.10"
  }
 },
 "nbformat": 4,
 "nbformat_minor": 5
}
